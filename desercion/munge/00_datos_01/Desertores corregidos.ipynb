{
 "cells": [
  {
   "cell_type": "code",
   "execution_count": 1,
   "metadata": {
    "collapsed": true,
    "jupyter": {
     "outputs_hidden": true
    }
   },
   "outputs": [],
   "source": [
    "%matplotlib inline\n",
    "import numpy as np\n",
    "import pandas as pd\n",
    "import matplotlib.pyplot as plt\n",
    "PATH = r'/home/dgasch/proyectos/GIAR/'\n",
    "ALF=2016\n",
    "ALI=2008"
   ]
  },
  {
   "cell_type": "markdown",
   "metadata": {},
   "source": [
    "* Actividad​: Se considera que un estudiante tiene ​actividad en un año determinado si: tiene \n",
    "alguna materia con el campo “Tipo de aprobación” distinto de “libre” ó si rindió algún final de \n",
    "esa u otra materia. Notar que ​actividad es una característica siempre asociada a un año \n",
    "determinado ​XX​. \n",
    "* (ALF) Año Lectivo Final​: Año que se toma como punto de partida para analizar hacia atrás \n",
    "las historias disponibles hasta 2008. En nuestro caso, por ahora, ALF = 2016. \n",
    "* (ALI) Año lectivo inicial​: Año a partir de que contamos con datos, En nuestro caso, por \n",
    "ahora es ALI = 2008. \n",
    "* (AUA) Año de Última Actividad​: Último año en que el estudiante haya tenido alguna \n",
    "actividad​. \n",
    "* (AI) Año de Ingreso​: Año en el que el estudiante haya realizado su primera actividad. \n",
    "Alumno ​activo a la fecha ​XX​: Se considera que un estudiante está “activo a la fecha ​XX​” si \n",
    "en el año ​XX ​registró ​actividad​.  \n",
    "* (AE) Año de egreso​: Año en que aprobó “Proyecto Final”.  \n",
    "* Condición de Egresado​: La condición de ​egresado se puede asignar a un alumno en el \n",
    "año de egreso o posteriores. Ver que se necesita indicar un año para ver si pertenece a esa \n",
    "categoría. \n",
    "* Condición de Desertor​: Se considera que un alumno es desertor para el año ​XX si no \n",
    "registra actividad ni en el año ​XX ni en el año ​XX - 1​. Ver que se necesita indicar un año para \n",
    "ver si pertenece a esa categoría"
   ]
  },
  {
   "cell_type": "markdown",
   "metadata": {},
   "source": [
    "## Cargo las bases de datos de alumnos y finales"
   ]
  },
  {
   "cell_type": "code",
   "execution_count": 2,
   "metadata": {},
   "outputs": [],
   "source": [
    "alumnos=pd.read_excel(PATH+'Datos-Alumnos-SIGA.xlsx')\n",
    "#Agrego la columna de desertor\n",
    "alumnos['deserto']=0\n",
    "finales=pd.read_excel(PATH+'Finales-Alumnos-SIGA.xlsx')\n",
    "cursadas=pd.read_excel(r'/home/dgasch/proyectos/GIAR/Cursadas-Alumnos-SIGA.xlsx')"
   ]
  },
  {
   "cell_type": "markdown",
   "metadata": {},
   "source": [
    "Selecciono los alumnos y el ano en que egresaron\n",
    "* (AE) Año de egreso​: Año en que aprobó “Proyecto Final”."
   ]
  },
  {
   "cell_type": "code",
   "execution_count": 3,
   "metadata": {},
   "outputs": [],
   "source": [
    "#Genero un listado del ano de egreso\n",
    "ano_egreso=finales[(finales['Materia']=='Proyecto Final') & (finales['Aprobado']==1)][['Codigo Alumno','Año']]"
   ]
  },
  {
   "cell_type": "markdown",
   "metadata": {},
   "source": [
    "Si egresó se lo categoriza como “noDesertor” con las características calculadas \n",
    "hasta AUA-2 (en este caso el AUA coincide con AE) (siempre que ALI < AUA-2). Se \n",
    "pasa al siguiente individuo (vuelve al paso 1 para el individuo siguiente). "
   ]
  },
  {
   "cell_type": "code",
   "execution_count": 4,
   "metadata": {},
   "outputs": [],
   "source": [
    "# Genero una lista de los alumnos que egresaron en un periodo anterior a la fecha de chequeo\n",
    "alumnos_egreso=ano_egreso[ano_egreso['Año']<=(ALF)]['Codigo Alumno']"
   ]
  },
  {
   "cell_type": "markdown",
   "metadata": {},
   "source": [
    "Busco todos los alumnos y la maxima fecha de final entre los que no estan entre los egresados y todos aquellos que cumplan con la condicion \n",
    "Si no egresó y si AUA < (ALF-1), se lo categoriza como “desertor” con las \n",
    "características calculadas hasta AUA inclusive. Se pasa al siguiente individuo, va al \n",
    "paso 1."
   ]
  },
  {
   "cell_type": "code",
   "execution_count": 5,
   "metadata": {
    "collapsed": false,
    "jupyter": {
     "outputs_hidden": false
    }
   },
   "outputs": [],
   "source": [
    "# Filtro los alumnos de acuerdo al ultimo ano que rindieron finales\n",
    "alumno_finales_ult=finales[finales['Año']<=(ALF)].groupby('Codigo Alumno' ,as_index = False)['Año'].max()\n",
    "# Genero una lista con los alumnos que rindieron finales\n",
    "alumnos_rindieron_finales=alumno_finales_ult[(alumno_finales_ult['Año']<(ALF-1)) & (~alumno_finales_ult['Codigo Alumno'].isin(alumnos_egreso))]['Codigo Alumno']"
   ]
  },
  {
   "cell_type": "markdown",
   "metadata": {},
   "source": [
    "Llegado este punto sólo puede darse la situación de que su última actividad esté \n",
    "dentro de los últimos dos años, ALF y ALF-1. Hay dos alternativas para estos casos: \n",
    "Alternativa 1  \n",
    "Si AI > (ALF-2) se lo descarta y se pasa al siguiente individuo, paso 1; \n",
    "(no podemos asegurar el resultado) (esto en rigor es parte del \n",
    "preprocesamiento y limpieza inicial) \n",
    "Sino se lo categoriza como “noDesertor” con las características \n",
    "calculadas hasta (ALF-2). \n",
    "Alternativa 2 \n",
    "Se lo descarta y se pasa al siguiente individuo, paso 1. (habrá que ver \n",
    "cuántos son para considerar descartarlos o no. lo que sea más facil) \n"
   ]
  },
  {
   "cell_type": "code",
   "execution_count": 7,
   "metadata": {
    "collapsed": false,
    "jupyter": {
     "outputs_hidden": false
    }
   },
   "outputs": [],
   "source": [
    "alumno_cursadas_ult=cursadas[cursadas['Ciclo Lectivo de Cursada']<=(ALF)].groupby('Codigo Alumno' ,as_index = False)['Ciclo Lectivo de Cursada'].max().reset_index()"
   ]
  },
  {
   "cell_type": "code",
   "execution_count": 8,
   "metadata": {
    "collapsed": false,
    "jupyter": {
     "outputs_hidden": false
    }
   },
   "outputs": [],
   "source": [
    "alumnos_cursaron=alumno_cursadas_ult[(alumno_cursadas_ult['Ciclo Lectivo de Cursada']<(ALF-1)) & (~alumno_cursadas_ult['Codigo Alumno'].isin(alumnos_egreso))]['Codigo Alumno']"
   ]
  },
  {
   "cell_type": "code",
   "execution_count": 9,
   "metadata": {
    "collapsed": false,
    "jupyter": {
     "outputs_hidden": false
    }
   },
   "outputs": [
    {
     "data": {
      "text/plain": [
       "32        204220\n",
       "34        459546\n",
       "36        785181\n",
       "37        806880\n",
       "38        865092\n",
       "39        902073\n",
       "40        936023\n",
       "43       1028789\n",
       "44       1046032\n",
       "46       1086261\n",
       "48       1088919\n",
       "52       1096898\n",
       "53       1099723\n",
       "55       1102849\n",
       "61       1116964\n",
       "62       1118924\n",
       "63       1120074\n",
       "67       1125760\n",
       "68       1126763\n",
       "70       1128759\n",
       "71       1138182\n",
       "72       1141028\n",
       "73       1144480\n",
       "75       1146932\n",
       "76       1147626\n",
       "77       1149106\n",
       "79       1153730\n",
       "80       1154151\n",
       "81       1154783\n",
       "83       1155982\n",
       "          ...   \n",
       "6126    10001775\n",
       "6127    10001780\n",
       "6132    10001787\n",
       "6146    10001828\n",
       "6147    10001830\n",
       "6153    10001846\n",
       "6164    10001871\n",
       "6169    10001886\n",
       "6171    10001888\n",
       "6181    10001911\n",
       "6185    10001921\n",
       "6189    10001926\n",
       "6199    10001941\n",
       "6204    10001947\n",
       "6212    10001961\n",
       "6213    10001963\n",
       "6221    10001977\n",
       "6223    10001985\n",
       "6226    10001991\n",
       "6228    10001993\n",
       "6233    10002005\n",
       "6235    10002013\n",
       "6239    10002017\n",
       "6240    10002018\n",
       "6245    10002028\n",
       "6252    10002066\n",
       "6259    10002558\n",
       "6268    10003340\n",
       "6277    10003368\n",
       "6282    10003384\n",
       "Name: Codigo Alumno, Length: 2655, dtype: int64"
      ]
     },
     "execution_count": 9,
     "metadata": {},
     "output_type": "execute_result"
    }
   ],
   "source": [
    "alumnos_cursaron"
   ]
  },
  {
   "cell_type": "code",
   "execution_count": 11,
   "metadata": {
    "collapsed": false,
    "jupyter": {
     "outputs_hidden": false
    }
   },
   "outputs": [],
   "source": [
    "alumnos_desertores=pd.concat([alumnos_cursaron,alumnos_rindieron_finales])"
   ]
  },
  {
   "cell_type": "code",
   "execution_count": 12,
   "metadata": {
    "collapsed": false,
    "jupyter": {
     "outputs_hidden": false
    }
   },
   "outputs": [
    {
     "name": "stderr",
     "output_type": "stream",
     "text": [
      "/home/dgasch/maestria/lib/python3.5/site-packages/ipykernel_launcher.py:1: SettingWithCopyWarning: \n",
      "A value is trying to be set on a copy of a slice from a DataFrame\n",
      "\n",
      "See the caveats in the documentation: http://pandas.pydata.org/pandas-docs/stable/indexing.html#indexing-view-versus-copy\n",
      "  \"\"\"Entry point for launching an IPython kernel.\n"
     ]
    }
   ],
   "source": [
    "alumnos['deserto'][alumnos['Codigo Alumno'].isin(alumnos_desertores)]=1"
   ]
  },
  {
   "cell_type": "code",
   "execution_count": 15,
   "metadata": {
    "collapsed": false,
    "jupyter": {
     "outputs_hidden": false
    }
   },
   "outputs": [
    {
     "data": {
      "text/plain": [
       "0    5266\n",
       "1    3069\n",
       "Name: deserto, dtype: int64"
      ]
     },
     "execution_count": 15,
     "metadata": {},
     "output_type": "execute_result"
    }
   ],
   "source": [
    "alumnos.deserto.value_counts()"
   ]
  },
  {
   "cell_type": "code",
   "execution_count": 16,
   "metadata": {},
   "outputs": [],
   "source": [
    "#Guardo el listado de alumnos\n",
    "alumnos.to_csv(r'/home/dgasch/proyectos/GIAR/alumnos_desertores.csv',sep=';')"
   ]
  },
  {
   "cell_type": "code",
   "execution_count": null,
   "metadata": {},
   "outputs": [],
   "source": []
  }
 ],
 "metadata": {
  "kernelspec": {
   "display_name": "Python 3",
   "language": "python",
   "name": "python3"
  },
  "language_info": {
   "codemirror_mode": {
    "name": "ipython",
    "version": 3
   },
   "file_extension": ".py",
   "mimetype": "text/x-python",
   "name": "python",
   "nbconvert_exporter": "python",
   "pygments_lexer": "ipython3",
   "version": "3.7.6"
  }
 },
 "nbformat": 4,
 "nbformat_minor": 4
}
