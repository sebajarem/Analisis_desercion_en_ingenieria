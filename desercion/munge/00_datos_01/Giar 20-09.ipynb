{
 "cells": [
  {
   "cell_type": "code",
   "execution_count": 1,
   "metadata": {
    "collapsed": false,
    "jupyter": {
     "outputs_hidden": false
    }
   },
   "outputs": [
    {
     "name": "stderr",
     "output_type": "stream",
     "text": [
      "/home/dgasch/maestria/lib/python3.5/site-packages/seaborn/apionly.py:6: UserWarning: As seaborn no longer sets a default style on import, the seaborn.apionly module is deprecated. It will be removed in a future version.\n",
      "  warnings.warn(msg, UserWarning)\n"
     ]
    }
   ],
   "source": [
    "%matplotlib inline\n",
    "import numpy as np\n",
    "import pandas as pd\n",
    "import seaborn.apionly as sns\n",
    "import matplotlib.pyplot as plt\n",
    "\n",
    "#Seteo el ano sobre el que voy a medir\n",
    "ano=2017"
   ]
  },
  {
   "cell_type": "markdown",
   "metadata": {},
   "source": [
    "# Analisis sobre Alumnos"
   ]
  },
  {
   "cell_type": "markdown",
   "metadata": {},
   "source": [
    "## Variables que se decidieron sacar el 20/09\n",
    "- Pais\n",
    "- Localidad\n",
    "- Provincia\n",
    "- Estado Civil\n",
    "\n",
    "### Variables que se van a generar\n",
    "- Se van a generar las variables de EsTecnico como una categorica que es si en el caso de que sea tecnico y no en otro caso, se deben respetar los nulos"
   ]
  },
  {
   "cell_type": "code",
   "execution_count": 2,
   "metadata": {},
   "outputs": [],
   "source": [
    "#Importo el set de datos de alumnos\n",
    "alumnos=pd.read_csv(r'/home/dgasch/proyectos/GIAR/alumnos_desertores.csv',sep=';')\n",
    "\n",
    "#Genero la nueva columna de esTecnico\n",
    "alumnos['EsTecnico']=alumnos.apply(lambda row: 1 if row['Estudios Secundarios']=='Técnico'  else (row['Estudios Secundarios'] if pd.isnull(row['Estudios Secundarios']) else 0), axis=1)\n",
    "\n"
   ]
  },
  {
   "cell_type": "markdown",
   "metadata": {},
   "source": [
    "#### Chequeo que la cantidad sea la misma para las dos columnas"
   ]
  },
  {
   "cell_type": "code",
   "execution_count": 3,
   "metadata": {
    "collapsed": false,
    "jupyter": {
     "outputs_hidden": false
    }
   },
   "outputs": [
    {
     "name": "stdout",
     "output_type": "stream",
     "text": [
      "Estudios Secundarios:1089\n",
      "EsTecnico: 1089\n",
      "Cantidad de registros que estan en el primero y no en el segundo: 0\n"
     ]
    }
   ],
   "source": [
    "print(\"Estudios Secundarios:{}\".format(alumnos['Estudios Secundarios'].isnull().sum()))\n",
    "print(\"EsTecnico: {}\".format(alumnos['EsTecnico'].isnull().sum()))\n",
    "print(\"Cantidad de registros que estan en el primero y no en el segundo: {}\".format(alumnos[(alumnos['EsTecnico'].isnull()) & (alumnos['Estudios Secundarios'].notnull())].shape[0]))"
   ]
  },
  {
   "cell_type": "code",
   "execution_count": 4,
   "metadata": {},
   "outputs": [],
   "source": [
    "#Genero el dataset sin las variables que se decidieron\n",
    "alumnos_df=alumnos[['Codigo Alumno','EsTecnico','deserto']]"
   ]
  },
  {
   "cell_type": "markdown",
   "metadata": {},
   "source": [
    "# Analisis sobre cursadas"
   ]
  },
  {
   "cell_type": "markdown",
   "metadata": {},
   "source": [
    "# Variables que vamos a sacar\n",
    "- Curso\n",
    "- Materia\n",
    "- Departamento\n",
    "- Ciclo Lectivo ( la vamos a sacar pero sera utilizada para filtrar los registros)\n",
    "- Modalidad\n",
    "\n",
    "## Variables que generamos\n",
    "- edad al ingreso (Ano ingreso - ano nacimiento) \n",
    "- Turno una columna por turno con la cantidad \n",
    "- Tipo de aprobación por cada una de las variables la cantidad \n",
    "- Maximo recursada por materias(existe mas de un registro por alumno y materia)\n",
    "- Cantidad de veces recursada regular OK\n",
    "- Descripción de recursada regular OK\n",
    "- Edad al ingreso\n",
    "- Edad en ano de ultima actividad\n",
    "\n",
    "Tener en cuenta que se debe guardar el ciclo lectivo mas actual"
   ]
  },
  {
   "cell_type": "code",
   "execution_count": 5,
   "metadata": {},
   "outputs": [],
   "source": [
    "#Importo el set de datos de Cursadas\n",
    "cursadas=pd.read_excel(r'/home/dgasch/proyectos/GIAR/Cursadas-Alumnos-SIGA.xlsx')\n",
    "\n",
    "#Filtro el set de datos por el ano en que lo quiero medir\n",
    "cursadas=cursadas.loc[cursadas['Ciclo Lectivo de Cursada']<ano-2,:]"
   ]
  },
  {
   "cell_type": "code",
   "execution_count": 6,
   "metadata": {
    "collapsed": false,
    "jupyter": {
     "outputs_hidden": false
    }
   },
   "outputs": [
    {
     "name": "stdout",
     "output_type": "stream",
     "text": [
      "       Codigo Alumno                           Materia  \\\n",
      "70723        9996270  Algoritmos y Estructura de Datos   \n",
      "70724        9996270             Análisis Matemático I   \n",
      "70725        9996270      Arquitectura de Computadores   \n",
      "70726        9996270               Matemática Discreta   \n",
      "70727        9996270                           Química   \n",
      "70728        9996270         Sistemas y Organizaciones   \n",
      "70729        9996270     Álgebra y Geometría Analítica   \n",
      "\n",
      "       Cantidad de veces recursada regular Descripción de recursada regular  \n",
      "70723                                    1                    Recurso 1 Vez  \n",
      "70724                                    1                    Recurso 1 Vez  \n",
      "70725                                    0                       No Recurso  \n",
      "70726                                    1                    Recurso 1 Vez  \n",
      "70727                                    0                       No Recurso  \n",
      "70728                                    0                       No Recurso  \n",
      "70729                                    1                    Recurso 1 Vez  \n"
     ]
    }
   ],
   "source": [
    "# Genero la variable edad al ingreso\n",
    "cursadas['edad al ingreso']=cursadas['Año de ingreso']-cursadas['Año de nacimiento']\n",
    "\n",
    "#Genero la lista de las descripciones de recursadas\n",
    "recursadas_df=cursadas.groupby(['Cantidad de veces recursada regular','Descripción de recursada regular'])['Materia'].max().reset_index()[['Cantidad de veces recursada regular','Descripción de recursada regular']]\n",
    "\n",
    "#Agrupo las cursadas de cada alumno por materia y calculo la mayor cantidad de recursadas y lo uno con la descripcion de cada una\n",
    "cursadas_df=cursadas.groupby(['Codigo Alumno','Materia'])['Cantidad de veces recursada regular'].max().reset_index().join(recursadas_df.set_index('Cantidad de veces recursada regular'),on='Cantidad de veces recursada regular',rsuffix='_o')\n",
    "\n",
    "#Compruebo con un alumno si se obtuvieron los registros correctos\n",
    "print(cursadas_df[cursadas_df['Codigo Alumno']==9996270])\n",
    "\n",
    "#Setea la descripcion como categoria\n",
    "cursadas_df['Descripción de recursada regular']=cursadas_df['Descripción de recursada regular'].astype('category')\n",
    "\n",
    "# Elimino la columna materia, y agrupo por alumno y sumarizo las descripciones\n",
    "recursadas_df=pd.get_dummies(cursadas_df,columns=['Descripción de recursada regular']).drop(['Materia'], axis=1).groupby(['Codigo Alumno']).sum()"
   ]
  },
  {
   "cell_type": "raw",
   "metadata": {
    "jupyter": {
     "outputs_hidden": false
    }
   },
   "source": [
    "#Chequeo que las columnas sean las que necesito\n",
    "recursadas_df.head()"
   ]
  },
  {
   "cell_type": "code",
   "execution_count": 8,
   "metadata": {
    "collapsed": false,
    "jupyter": {
     "outputs_hidden": false
    }
   },
   "outputs": [],
   "source": [
    "# Genero las dummies que se acordaron y los valores restantes\n",
    "cursadas_df=pd.get_dummies(cursadas,columns=['Turno','Tipo de aprobación']).groupby(['Codigo Alumno']).agg({'Ciclo Lectivo de Cursada':['max'],\n",
    "        'edad al ingreso':['max'], 'Turno_Mañana':['sum'],\n",
    "       'Turno_Noche':['sum'], 'Turno_Tarde':['sum'], 'Tipo de aprobación_Cambio Curso':['sum'],\n",
    "        'Tipo de aprobación_Firmo':['sum'],\n",
    "       'Tipo de aprobación_Libre':['sum'], 'Tipo de aprobación_No Firmo':['sum'],\n",
    "       'Tipo de aprobación_Promociono':['sum']\n",
    "        ,'Sexo':['max']})\n",
    "\n",
    "#Corrijo los nombres de las columnas\n",
    "cursadas_df.columns = [col[0] for col in cursadas_df.columns.values]\n",
    "\n",
    "#Uno este DataFrame con el calculado con las descripciones de recursadas y lo guardo en el dataframe de cursadas\n",
    "cursadas_df=cursadas_df.reset_index().join(recursadas_df,on='Codigo Alumno')"
   ]
  },
  {
   "cell_type": "markdown",
   "metadata": {},
   "source": [
    "# Finales \n",
    "\n",
    "## Columnas a sacar\n",
    "- Materia\n",
    "- Ano (Solo se usa para filtrar)\n",
    "\n",
    "## Variables a generar\n",
    "- Promedio sobre los maximos de Nota\n",
    "- Promedio sobre la nota (con aplazos)\n",
    "- Cantidad de veces que aprobo\n",
    "- Cantidad de veces que no aprobo\n",
    "- Cantidad de veces que promociono"
   ]
  },
  {
   "cell_type": "code",
   "execution_count": 9,
   "metadata": {},
   "outputs": [],
   "source": [
    "#Importo el set de datos de Finales\n",
    "finales=pd.read_excel(r'/home/dgasch/proyectos/GIAR/Finales-Alumnos-SIGA.xlsx')\n",
    "\n",
    "#Filtro el set de datos por el ano en que lo quiero medir\n",
    "finales=finales.loc[finales['Año']<ano-2,:]"
   ]
  },
  {
   "cell_type": "code",
   "execution_count": 10,
   "metadata": {},
   "outputs": [],
   "source": [
    "#Corrijo los finales para que no haya notas con 11\n",
    "finales.loc[finales['Nota']==11,['Nota']]=10\n",
    "#Genero la columna de no aprobado\n",
    "finales['noAprobado']=finales['Aprobado'].apply(lambda row: 1 if row==0 else 0)\n",
    "#Agrupo los finales y me quedo con el promedio de las notas maximas\n",
    "finales_max_df=finales.groupby(['Codigo Alumno','Materia'])['Nota'].max().reset_index().groupby(['Codigo Alumno'])['Nota'].mean().reset_index()\n",
    "\n",
    "#Seteo el nombre a las columnas para que no se me superpongan\n",
    "finales_max_df.columns=['Codigo Alumno','Nota_max_prom']\n",
    "\n",
    "#Genero el resto de las agrupaciones sobre el set de finales\n",
    "finales_df=finales.groupby(['Codigo Alumno']).agg({'noAprobado':[sum],'Aprobado':[sum],'Promociono':[sum],'Nota':['mean']})\n",
    "\n",
    "#Corrijo los nombres de las columnas\n",
    "finales_df.columns = [col[0] for col in finales_df.columns.values]\n",
    "\n",
    "#Le agrego a los finales la columna de finales maximos agrupados\n",
    "finales_df=finales_df.reset_index().join(finales_max_df.set_index('Codigo Alumno'),on='Codigo Alumno')"
   ]
  },
  {
   "cell_type": "markdown",
   "metadata": {},
   "source": [
    "# Realizo la agrupacion de todos los registros"
   ]
  },
  {
   "cell_type": "code",
   "execution_count": 26,
   "metadata": {
    "collapsed": false,
    "jupyter": {
     "outputs_hidden": false
    }
   },
   "outputs": [],
   "source": [
    "merged_df = alumnos_df.join(cursadas_df.set_index('Codigo Alumno'),on='Codigo Alumno').join(finales_df.set_index('Codigo Alumno'),on='Codigo Alumno')\n",
    "merged_df=merged_df[(merged_df['Codigo Alumno'].isin(finales_df['Codigo Alumno'])) & (merged_df['Codigo Alumno'].isin(cursadas_df['Codigo Alumno']))]\n",
    "#Guardo los registros en un csv\n",
    "merged_df.to_csv(r'/home/dgasch/proyectos/GIAR/baseline_2009.csv',index=False)"
   ]
  },
  {
   "cell_type": "code",
   "execution_count": 13,
   "metadata": {
    "collapsed": false,
    "jupyter": {
     "outputs_hidden": false
    }
   },
   "outputs": [
    {
     "data": {
      "text/html": [
       "<div>\n",
       "<style scoped>\n",
       "    .dataframe tbody tr th:only-of-type {\n",
       "        vertical-align: middle;\n",
       "    }\n",
       "\n",
       "    .dataframe tbody tr th {\n",
       "        vertical-align: top;\n",
       "    }\n",
       "\n",
       "    .dataframe thead th {\n",
       "        text-align: right;\n",
       "    }\n",
       "</style>\n",
       "<table border=\"1\" class=\"dataframe\">\n",
       "  <thead>\n",
       "    <tr style=\"text-align: right;\">\n",
       "      <th></th>\n",
       "      <th>Codigo Alumno</th>\n",
       "      <th>EsTecnico</th>\n",
       "      <th>deserto</th>\n",
       "    </tr>\n",
       "  </thead>\n",
       "  <tbody>\n",
       "    <tr>\n",
       "      <th>0</th>\n",
       "      <td>10000007</td>\n",
       "      <td>NaN</td>\n",
       "      <td>1</td>\n",
       "    </tr>\n",
       "    <tr>\n",
       "      <th>1</th>\n",
       "      <td>10000010</td>\n",
       "      <td>NaN</td>\n",
       "      <td>0</td>\n",
       "    </tr>\n",
       "    <tr>\n",
       "      <th>2</th>\n",
       "      <td>10000015</td>\n",
       "      <td>NaN</td>\n",
       "      <td>1</td>\n",
       "    </tr>\n",
       "    <tr>\n",
       "      <th>3</th>\n",
       "      <td>10000016</td>\n",
       "      <td>NaN</td>\n",
       "      <td>1</td>\n",
       "    </tr>\n",
       "    <tr>\n",
       "      <th>4</th>\n",
       "      <td>10000020</td>\n",
       "      <td>NaN</td>\n",
       "      <td>1</td>\n",
       "    </tr>\n",
       "    <tr>\n",
       "      <th>5</th>\n",
       "      <td>10000027</td>\n",
       "      <td>NaN</td>\n",
       "      <td>0</td>\n",
       "    </tr>\n",
       "    <tr>\n",
       "      <th>6</th>\n",
       "      <td>10000032</td>\n",
       "      <td>NaN</td>\n",
       "      <td>1</td>\n",
       "    </tr>\n",
       "    <tr>\n",
       "      <th>7</th>\n",
       "      <td>10000039</td>\n",
       "      <td>NaN</td>\n",
       "      <td>0</td>\n",
       "    </tr>\n",
       "    <tr>\n",
       "      <th>8</th>\n",
       "      <td>10000045</td>\n",
       "      <td>NaN</td>\n",
       "      <td>1</td>\n",
       "    </tr>\n",
       "    <tr>\n",
       "      <th>9</th>\n",
       "      <td>10000046</td>\n",
       "      <td>NaN</td>\n",
       "      <td>0</td>\n",
       "    </tr>\n",
       "    <tr>\n",
       "      <th>10</th>\n",
       "      <td>10000051</td>\n",
       "      <td>NaN</td>\n",
       "      <td>1</td>\n",
       "    </tr>\n",
       "    <tr>\n",
       "      <th>11</th>\n",
       "      <td>10000067</td>\n",
       "      <td>0.0</td>\n",
       "      <td>0</td>\n",
       "    </tr>\n",
       "    <tr>\n",
       "      <th>12</th>\n",
       "      <td>10000069</td>\n",
       "      <td>0.0</td>\n",
       "      <td>1</td>\n",
       "    </tr>\n",
       "    <tr>\n",
       "      <th>13</th>\n",
       "      <td>10000074</td>\n",
       "      <td>1.0</td>\n",
       "      <td>0</td>\n",
       "    </tr>\n",
       "    <tr>\n",
       "      <th>14</th>\n",
       "      <td>10000075</td>\n",
       "      <td>1.0</td>\n",
       "      <td>0</td>\n",
       "    </tr>\n",
       "    <tr>\n",
       "      <th>15</th>\n",
       "      <td>10000076</td>\n",
       "      <td>1.0</td>\n",
       "      <td>0</td>\n",
       "    </tr>\n",
       "    <tr>\n",
       "      <th>16</th>\n",
       "      <td>10000077</td>\n",
       "      <td>1.0</td>\n",
       "      <td>0</td>\n",
       "    </tr>\n",
       "    <tr>\n",
       "      <th>17</th>\n",
       "      <td>10000078</td>\n",
       "      <td>1.0</td>\n",
       "      <td>0</td>\n",
       "    </tr>\n",
       "    <tr>\n",
       "      <th>18</th>\n",
       "      <td>10000079</td>\n",
       "      <td>1.0</td>\n",
       "      <td>0</td>\n",
       "    </tr>\n",
       "    <tr>\n",
       "      <th>19</th>\n",
       "      <td>10000082</td>\n",
       "      <td>0.0</td>\n",
       "      <td>0</td>\n",
       "    </tr>\n",
       "    <tr>\n",
       "      <th>20</th>\n",
       "      <td>10000088</td>\n",
       "      <td>0.0</td>\n",
       "      <td>0</td>\n",
       "    </tr>\n",
       "    <tr>\n",
       "      <th>21</th>\n",
       "      <td>10000094</td>\n",
       "      <td>0.0</td>\n",
       "      <td>0</td>\n",
       "    </tr>\n",
       "    <tr>\n",
       "      <th>22</th>\n",
       "      <td>10000096</td>\n",
       "      <td>0.0</td>\n",
       "      <td>0</td>\n",
       "    </tr>\n",
       "    <tr>\n",
       "      <th>23</th>\n",
       "      <td>10000099</td>\n",
       "      <td>0.0</td>\n",
       "      <td>0</td>\n",
       "    </tr>\n",
       "    <tr>\n",
       "      <th>24</th>\n",
       "      <td>10000101</td>\n",
       "      <td>0.0</td>\n",
       "      <td>0</td>\n",
       "    </tr>\n",
       "    <tr>\n",
       "      <th>25</th>\n",
       "      <td>10000106</td>\n",
       "      <td>1.0</td>\n",
       "      <td>1</td>\n",
       "    </tr>\n",
       "    <tr>\n",
       "      <th>26</th>\n",
       "      <td>10000111</td>\n",
       "      <td>1.0</td>\n",
       "      <td>0</td>\n",
       "    </tr>\n",
       "    <tr>\n",
       "      <th>27</th>\n",
       "      <td>10000113</td>\n",
       "      <td>0.0</td>\n",
       "      <td>0</td>\n",
       "    </tr>\n",
       "    <tr>\n",
       "      <th>28</th>\n",
       "      <td>10000114</td>\n",
       "      <td>1.0</td>\n",
       "      <td>0</td>\n",
       "    </tr>\n",
       "    <tr>\n",
       "      <th>29</th>\n",
       "      <td>10000118</td>\n",
       "      <td>0.0</td>\n",
       "      <td>0</td>\n",
       "    </tr>\n",
       "    <tr>\n",
       "      <th>...</th>\n",
       "      <td>...</td>\n",
       "      <td>...</td>\n",
       "      <td>...</td>\n",
       "    </tr>\n",
       "    <tr>\n",
       "      <th>8305</th>\n",
       "      <td>9999021</td>\n",
       "      <td>NaN</td>\n",
       "      <td>1</td>\n",
       "    </tr>\n",
       "    <tr>\n",
       "      <th>8306</th>\n",
       "      <td>9999025</td>\n",
       "      <td>NaN</td>\n",
       "      <td>0</td>\n",
       "    </tr>\n",
       "    <tr>\n",
       "      <th>8307</th>\n",
       "      <td>9999042</td>\n",
       "      <td>NaN</td>\n",
       "      <td>0</td>\n",
       "    </tr>\n",
       "    <tr>\n",
       "      <th>8308</th>\n",
       "      <td>9999353</td>\n",
       "      <td>NaN</td>\n",
       "      <td>0</td>\n",
       "    </tr>\n",
       "    <tr>\n",
       "      <th>8309</th>\n",
       "      <td>9999591</td>\n",
       "      <td>NaN</td>\n",
       "      <td>0</td>\n",
       "    </tr>\n",
       "    <tr>\n",
       "      <th>8310</th>\n",
       "      <td>9999592</td>\n",
       "      <td>NaN</td>\n",
       "      <td>0</td>\n",
       "    </tr>\n",
       "    <tr>\n",
       "      <th>8311</th>\n",
       "      <td>9999593</td>\n",
       "      <td>NaN</td>\n",
       "      <td>1</td>\n",
       "    </tr>\n",
       "    <tr>\n",
       "      <th>8312</th>\n",
       "      <td>9999604</td>\n",
       "      <td>0.0</td>\n",
       "      <td>0</td>\n",
       "    </tr>\n",
       "    <tr>\n",
       "      <th>8313</th>\n",
       "      <td>9999605</td>\n",
       "      <td>NaN</td>\n",
       "      <td>0</td>\n",
       "    </tr>\n",
       "    <tr>\n",
       "      <th>8314</th>\n",
       "      <td>9999845</td>\n",
       "      <td>NaN</td>\n",
       "      <td>1</td>\n",
       "    </tr>\n",
       "    <tr>\n",
       "      <th>8315</th>\n",
       "      <td>9999848</td>\n",
       "      <td>NaN</td>\n",
       "      <td>0</td>\n",
       "    </tr>\n",
       "    <tr>\n",
       "      <th>8316</th>\n",
       "      <td>9999865</td>\n",
       "      <td>NaN</td>\n",
       "      <td>0</td>\n",
       "    </tr>\n",
       "    <tr>\n",
       "      <th>8317</th>\n",
       "      <td>9999866</td>\n",
       "      <td>NaN</td>\n",
       "      <td>1</td>\n",
       "    </tr>\n",
       "    <tr>\n",
       "      <th>8318</th>\n",
       "      <td>9999871</td>\n",
       "      <td>NaN</td>\n",
       "      <td>0</td>\n",
       "    </tr>\n",
       "    <tr>\n",
       "      <th>8319</th>\n",
       "      <td>9999872</td>\n",
       "      <td>NaN</td>\n",
       "      <td>1</td>\n",
       "    </tr>\n",
       "    <tr>\n",
       "      <th>8320</th>\n",
       "      <td>9999874</td>\n",
       "      <td>NaN</td>\n",
       "      <td>1</td>\n",
       "    </tr>\n",
       "    <tr>\n",
       "      <th>8321</th>\n",
       "      <td>9999877</td>\n",
       "      <td>NaN</td>\n",
       "      <td>0</td>\n",
       "    </tr>\n",
       "    <tr>\n",
       "      <th>8322</th>\n",
       "      <td>9999883</td>\n",
       "      <td>NaN</td>\n",
       "      <td>0</td>\n",
       "    </tr>\n",
       "    <tr>\n",
       "      <th>8323</th>\n",
       "      <td>9999885</td>\n",
       "      <td>NaN</td>\n",
       "      <td>1</td>\n",
       "    </tr>\n",
       "    <tr>\n",
       "      <th>8324</th>\n",
       "      <td>9999889</td>\n",
       "      <td>NaN</td>\n",
       "      <td>1</td>\n",
       "    </tr>\n",
       "    <tr>\n",
       "      <th>8325</th>\n",
       "      <td>9999917</td>\n",
       "      <td>NaN</td>\n",
       "      <td>0</td>\n",
       "    </tr>\n",
       "    <tr>\n",
       "      <th>8326</th>\n",
       "      <td>9999920</td>\n",
       "      <td>NaN</td>\n",
       "      <td>0</td>\n",
       "    </tr>\n",
       "    <tr>\n",
       "      <th>8327</th>\n",
       "      <td>9999921</td>\n",
       "      <td>NaN</td>\n",
       "      <td>0</td>\n",
       "    </tr>\n",
       "    <tr>\n",
       "      <th>8328</th>\n",
       "      <td>9999957</td>\n",
       "      <td>NaN</td>\n",
       "      <td>0</td>\n",
       "    </tr>\n",
       "    <tr>\n",
       "      <th>8329</th>\n",
       "      <td>9999960</td>\n",
       "      <td>NaN</td>\n",
       "      <td>0</td>\n",
       "    </tr>\n",
       "    <tr>\n",
       "      <th>8330</th>\n",
       "      <td>9999966</td>\n",
       "      <td>NaN</td>\n",
       "      <td>0</td>\n",
       "    </tr>\n",
       "    <tr>\n",
       "      <th>8331</th>\n",
       "      <td>9999983</td>\n",
       "      <td>NaN</td>\n",
       "      <td>1</td>\n",
       "    </tr>\n",
       "    <tr>\n",
       "      <th>8332</th>\n",
       "      <td>9999987</td>\n",
       "      <td>NaN</td>\n",
       "      <td>1</td>\n",
       "    </tr>\n",
       "    <tr>\n",
       "      <th>8333</th>\n",
       "      <td>9999989</td>\n",
       "      <td>NaN</td>\n",
       "      <td>0</td>\n",
       "    </tr>\n",
       "    <tr>\n",
       "      <th>8334</th>\n",
       "      <td>9999996</td>\n",
       "      <td>NaN</td>\n",
       "      <td>1</td>\n",
       "    </tr>\n",
       "  </tbody>\n",
       "</table>\n",
       "<p>5966 rows × 3 columns</p>\n",
       "</div>"
      ],
      "text/plain": [
       "      Codigo Alumno  EsTecnico  deserto\n",
       "0          10000007        NaN        1\n",
       "1          10000010        NaN        0\n",
       "2          10000015        NaN        1\n",
       "3          10000016        NaN        1\n",
       "4          10000020        NaN        1\n",
       "5          10000027        NaN        0\n",
       "6          10000032        NaN        1\n",
       "7          10000039        NaN        0\n",
       "8          10000045        NaN        1\n",
       "9          10000046        NaN        0\n",
       "10         10000051        NaN        1\n",
       "11         10000067        0.0        0\n",
       "12         10000069        0.0        1\n",
       "13         10000074        1.0        0\n",
       "14         10000075        1.0        0\n",
       "15         10000076        1.0        0\n",
       "16         10000077        1.0        0\n",
       "17         10000078        1.0        0\n",
       "18         10000079        1.0        0\n",
       "19         10000082        0.0        0\n",
       "20         10000088        0.0        0\n",
       "21         10000094        0.0        0\n",
       "22         10000096        0.0        0\n",
       "23         10000099        0.0        0\n",
       "24         10000101        0.0        0\n",
       "25         10000106        1.0        1\n",
       "26         10000111        1.0        0\n",
       "27         10000113        0.0        0\n",
       "28         10000114        1.0        0\n",
       "29         10000118        0.0        0\n",
       "...             ...        ...      ...\n",
       "8305        9999021        NaN        1\n",
       "8306        9999025        NaN        0\n",
       "8307        9999042        NaN        0\n",
       "8308        9999353        NaN        0\n",
       "8309        9999591        NaN        0\n",
       "8310        9999592        NaN        0\n",
       "8311        9999593        NaN        1\n",
       "8312        9999604        0.0        0\n",
       "8313        9999605        NaN        0\n",
       "8314        9999845        NaN        1\n",
       "8315        9999848        NaN        0\n",
       "8316        9999865        NaN        0\n",
       "8317        9999866        NaN        1\n",
       "8318        9999871        NaN        0\n",
       "8319        9999872        NaN        1\n",
       "8320        9999874        NaN        1\n",
       "8321        9999877        NaN        0\n",
       "8322        9999883        NaN        0\n",
       "8323        9999885        NaN        1\n",
       "8324        9999889        NaN        1\n",
       "8325        9999917        NaN        0\n",
       "8326        9999920        NaN        0\n",
       "8327        9999921        NaN        0\n",
       "8328        9999957        NaN        0\n",
       "8329        9999960        NaN        0\n",
       "8330        9999966        NaN        0\n",
       "8331        9999983        NaN        1\n",
       "8332        9999987        NaN        1\n",
       "8333        9999989        NaN        0\n",
       "8334        9999996        NaN        1\n",
       "\n",
       "[5966 rows x 3 columns]"
      ]
     },
     "execution_count": 13,
     "metadata": {},
     "output_type": "execute_result"
    }
   ],
   "source": [
    "merged_df[(merged_df['Codigo Alumno'].isin(finales_df['Codigo Alumno'])) | (merged_df['Codigo Alumno'].isin(cursadas_df['Codigo Alumno']))]"
   ]
  },
  {
   "cell_type": "code",
   "execution_count": 33,
   "metadata": {
    "collapsed": false,
    "jupyter": {
     "outputs_hidden": false
    }
   },
   "outputs": [
    {
     "data": {
      "text/plain": [
       "0    2558\n",
       "1    2000\n",
       "Name: deserto, dtype: int64"
      ]
     },
     "execution_count": 33,
     "metadata": {},
     "output_type": "execute_result"
    }
   ],
   "source": [
    "merged_df['deserto'].value_counts()"
   ]
  },
  {
   "cell_type": "code",
   "execution_count": 30,
   "metadata": {
    "collapsed": false,
    "jupyter": {
     "outputs_hidden": false
    }
   },
   "outputs": [
    {
     "name": "stdout",
     "output_type": "stream",
     "text": [
      "<class 'pandas.core.frame.DataFrame'>\n",
      "Int64Index: 4558 entries, 0 to 8334\n",
      "Data columns (total 27 columns):\n",
      "Codigo Alumno                                            4558 non-null int64\n",
      "EsTecnico                                                3951 non-null float64\n",
      "deserto                                                  4558 non-null int64\n",
      "Tipo de aprobación_Libre                                 4558 non-null int64\n",
      "Sexo                                                     4558 non-null object\n",
      "Turno_Tarde                                              4558 non-null int64\n",
      "Tipo de aprobación_Cambio Curso                          4558 non-null int64\n",
      "Tipo de aprobación_Promociono                            4558 non-null int64\n",
      "Turno_Noche                                              4558 non-null int64\n",
      "edad al ingreso                                          4558 non-null int64\n",
      "Tipo de aprobación_No Firmo                              4558 non-null int64\n",
      "Turno_Mañana                                             4558 non-null int64\n",
      "Ciclo Lectivo de Cursada                                 4558 non-null int64\n",
      "Tipo de aprobación_Firmo                                 4558 non-null int64\n",
      "Cantidad de veces recursada regular                      4558 non-null int64\n",
      "Descripción de recursada regular_No Recurso              4558 non-null int64\n",
      "Descripción de recursada regular_Recurso 1 Vez           4558 non-null int64\n",
      "Descripción de recursada regular_Recurso 2 Veces         4558 non-null int64\n",
      "Descripción de recursada regular_Recurso 3 Veces         4558 non-null int64\n",
      "Descripción de recursada regular_Recurso 4 Veces         4558 non-null int64\n",
      "Descripción de recursada regular_Recurso 5 Veces         4558 non-null int64\n",
      "Descripción de recursada regular_Recurso n Veces (>5)    4558 non-null int64\n",
      "Aprobado                                                 4558 non-null int64\n",
      "Promociono                                               4558 non-null int64\n",
      "noAprobado                                               4558 non-null int64\n",
      "Nota                                                     4558 non-null int64\n",
      "Nota_max_prom                                            4558 non-null float64\n",
      "dtypes: float64(2), int64(24), object(1)\n",
      "memory usage: 997.1+ KB\n"
     ]
    }
   ],
   "source": [
    "merged_df.info()"
   ]
  },
  {
   "cell_type": "code",
   "execution_count": 19,
   "metadata": {
    "collapsed": false,
    "jupyter": {
     "outputs_hidden": false
    }
   },
   "outputs": [
    {
     "data": {
      "text/plain": [
       "['Codigo Alumno',\n",
       " 'EsTecnico',\n",
       " 'deserto',\n",
       " 'Tipo de aprobación_Libre',\n",
       " 'Sexo',\n",
       " 'Turno_Tarde',\n",
       " 'Tipo de aprobación_Cambio Curso',\n",
       " 'Tipo de aprobación_Promociono',\n",
       " 'Turno_Noche',\n",
       " 'edad al ingreso',\n",
       " 'Tipo de aprobación_No Firmo',\n",
       " 'Turno_Mañana',\n",
       " 'Ciclo Lectivo de Cursada',\n",
       " 'Tipo de aprobación_Firmo',\n",
       " 'Cantidad de veces recursada regular',\n",
       " 'Descripción de recursada regular_No Recurso',\n",
       " 'Descripción de recursada regular_Recurso 1 Vez',\n",
       " 'Descripción de recursada regular_Recurso 2 Veces',\n",
       " 'Descripción de recursada regular_Recurso 3 Veces',\n",
       " 'Descripción de recursada regular_Recurso 4 Veces',\n",
       " 'Descripción de recursada regular_Recurso 5 Veces',\n",
       " 'Descripción de recursada regular_Recurso n Veces (>5)',\n",
       " 'Aprobado',\n",
       " 'Promociono',\n",
       " 'noAprobado',\n",
       " 'Nota',\n",
       " 'Nota_max_prom']"
      ]
     },
     "execution_count": 19,
     "metadata": {},
     "output_type": "execute_result"
    }
   ],
   "source": [
    "list(merged_df.columns)"
   ]
  },
  {
   "cell_type": "code",
   "execution_count": 31,
   "metadata": {
    "collapsed": false,
    "jupyter": {
     "outputs_hidden": false
    }
   },
   "outputs": [
    {
     "ename": "ValueError",
     "evalue": "Cannot convert non-finite values (NA or inf) to integer",
     "output_type": "error",
     "traceback": [
      "\u001b[0;31m---------------------------------------------------------------------------\u001b[0m",
      "\u001b[0;31mValueError\u001b[0m                                Traceback (most recent call last)",
      "\u001b[0;32m<ipython-input-31-f2d17e326b57>\u001b[0m in \u001b[0;36m<module>\u001b[0;34m()\u001b[0m\n\u001b[1;32m     21\u001b[0m  \u001b[0;34m'noAprobado'\u001b[0m\u001b[0;34m,\u001b[0m\u001b[0;34m\u001b[0m\u001b[0m\n\u001b[1;32m     22\u001b[0m  'Nota']\n\u001b[0;32m---> 23\u001b[0;31m \u001b[0mmerged_df\u001b[0m\u001b[0;34m[\u001b[0m\u001b[0mcolumnas\u001b[0m\u001b[0;34m]\u001b[0m\u001b[0;34m=\u001b[0m\u001b[0mmerged_df\u001b[0m\u001b[0;34m[\u001b[0m\u001b[0mcolumnas\u001b[0m\u001b[0;34m]\u001b[0m\u001b[0;34m.\u001b[0m\u001b[0mastype\u001b[0m\u001b[0;34m(\u001b[0m\u001b[0mint\u001b[0m\u001b[0;34m)\u001b[0m\u001b[0;34m\u001b[0m\u001b[0m\n\u001b[0m\u001b[1;32m     24\u001b[0m \u001b[0;34m\u001b[0m\u001b[0m\n\u001b[1;32m     25\u001b[0m \u001b[0;34m\u001b[0m\u001b[0m\n",
      "\u001b[0;32m~/maestria/lib/python3.5/site-packages/pandas/util/_decorators.py\u001b[0m in \u001b[0;36mwrapper\u001b[0;34m(*args, **kwargs)\u001b[0m\n\u001b[1;32m    116\u001b[0m                 \u001b[0;32melse\u001b[0m\u001b[0;34m:\u001b[0m\u001b[0;34m\u001b[0m\u001b[0m\n\u001b[1;32m    117\u001b[0m                     \u001b[0mkwargs\u001b[0m\u001b[0;34m[\u001b[0m\u001b[0mnew_arg_name\u001b[0m\u001b[0;34m]\u001b[0m \u001b[0;34m=\u001b[0m \u001b[0mnew_arg_value\u001b[0m\u001b[0;34m\u001b[0m\u001b[0m\n\u001b[0;32m--> 118\u001b[0;31m             \u001b[0;32mreturn\u001b[0m \u001b[0mfunc\u001b[0m\u001b[0;34m(\u001b[0m\u001b[0;34m*\u001b[0m\u001b[0margs\u001b[0m\u001b[0;34m,\u001b[0m \u001b[0;34m**\u001b[0m\u001b[0mkwargs\u001b[0m\u001b[0;34m)\u001b[0m\u001b[0;34m\u001b[0m\u001b[0m\n\u001b[0m\u001b[1;32m    119\u001b[0m         \u001b[0;32mreturn\u001b[0m \u001b[0mwrapper\u001b[0m\u001b[0;34m\u001b[0m\u001b[0m\n\u001b[1;32m    120\u001b[0m     \u001b[0;32mreturn\u001b[0m \u001b[0m_deprecate_kwarg\u001b[0m\u001b[0;34m\u001b[0m\u001b[0m\n",
      "\u001b[0;32m~/maestria/lib/python3.5/site-packages/pandas/core/generic.py\u001b[0m in \u001b[0;36mastype\u001b[0;34m(self, dtype, copy, errors, **kwargs)\u001b[0m\n\u001b[1;32m   4002\u001b[0m         \u001b[0;31m# else, only a single dtype is given\u001b[0m\u001b[0;34m\u001b[0m\u001b[0;34m\u001b[0m\u001b[0m\n\u001b[1;32m   4003\u001b[0m         new_data = self._data.astype(dtype=dtype, copy=copy, errors=errors,\n\u001b[0;32m-> 4004\u001b[0;31m                                      **kwargs)\n\u001b[0m\u001b[1;32m   4005\u001b[0m         \u001b[0;32mreturn\u001b[0m \u001b[0mself\u001b[0m\u001b[0;34m.\u001b[0m\u001b[0m_constructor\u001b[0m\u001b[0;34m(\u001b[0m\u001b[0mnew_data\u001b[0m\u001b[0;34m)\u001b[0m\u001b[0;34m.\u001b[0m\u001b[0m__finalize__\u001b[0m\u001b[0;34m(\u001b[0m\u001b[0mself\u001b[0m\u001b[0;34m)\u001b[0m\u001b[0;34m\u001b[0m\u001b[0m\n\u001b[1;32m   4006\u001b[0m \u001b[0;34m\u001b[0m\u001b[0m\n",
      "\u001b[0;32m~/maestria/lib/python3.5/site-packages/pandas/core/internals.py\u001b[0m in \u001b[0;36mastype\u001b[0;34m(self, dtype, **kwargs)\u001b[0m\n\u001b[1;32m   3460\u001b[0m \u001b[0;34m\u001b[0m\u001b[0m\n\u001b[1;32m   3461\u001b[0m     \u001b[0;32mdef\u001b[0m \u001b[0mastype\u001b[0m\u001b[0;34m(\u001b[0m\u001b[0mself\u001b[0m\u001b[0;34m,\u001b[0m \u001b[0mdtype\u001b[0m\u001b[0;34m,\u001b[0m \u001b[0;34m**\u001b[0m\u001b[0mkwargs\u001b[0m\u001b[0;34m)\u001b[0m\u001b[0;34m:\u001b[0m\u001b[0;34m\u001b[0m\u001b[0m\n\u001b[0;32m-> 3462\u001b[0;31m         \u001b[0;32mreturn\u001b[0m \u001b[0mself\u001b[0m\u001b[0;34m.\u001b[0m\u001b[0mapply\u001b[0m\u001b[0;34m(\u001b[0m\u001b[0;34m'astype'\u001b[0m\u001b[0;34m,\u001b[0m \u001b[0mdtype\u001b[0m\u001b[0;34m=\u001b[0m\u001b[0mdtype\u001b[0m\u001b[0;34m,\u001b[0m \u001b[0;34m**\u001b[0m\u001b[0mkwargs\u001b[0m\u001b[0;34m)\u001b[0m\u001b[0;34m\u001b[0m\u001b[0m\n\u001b[0m\u001b[1;32m   3463\u001b[0m \u001b[0;34m\u001b[0m\u001b[0m\n\u001b[1;32m   3464\u001b[0m     \u001b[0;32mdef\u001b[0m \u001b[0mconvert\u001b[0m\u001b[0;34m(\u001b[0m\u001b[0mself\u001b[0m\u001b[0;34m,\u001b[0m \u001b[0;34m**\u001b[0m\u001b[0mkwargs\u001b[0m\u001b[0;34m)\u001b[0m\u001b[0;34m:\u001b[0m\u001b[0;34m\u001b[0m\u001b[0m\n",
      "\u001b[0;32m~/maestria/lib/python3.5/site-packages/pandas/core/internals.py\u001b[0m in \u001b[0;36mapply\u001b[0;34m(self, f, axes, filter, do_integrity_check, consolidate, **kwargs)\u001b[0m\n\u001b[1;32m   3327\u001b[0m \u001b[0;34m\u001b[0m\u001b[0m\n\u001b[1;32m   3328\u001b[0m             \u001b[0mkwargs\u001b[0m\u001b[0;34m[\u001b[0m\u001b[0;34m'mgr'\u001b[0m\u001b[0;34m]\u001b[0m \u001b[0;34m=\u001b[0m \u001b[0mself\u001b[0m\u001b[0;34m\u001b[0m\u001b[0m\n\u001b[0;32m-> 3329\u001b[0;31m             \u001b[0mapplied\u001b[0m \u001b[0;34m=\u001b[0m \u001b[0mgetattr\u001b[0m\u001b[0;34m(\u001b[0m\u001b[0mb\u001b[0m\u001b[0;34m,\u001b[0m \u001b[0mf\u001b[0m\u001b[0;34m)\u001b[0m\u001b[0;34m(\u001b[0m\u001b[0;34m**\u001b[0m\u001b[0mkwargs\u001b[0m\u001b[0;34m)\u001b[0m\u001b[0;34m\u001b[0m\u001b[0m\n\u001b[0m\u001b[1;32m   3330\u001b[0m             \u001b[0mresult_blocks\u001b[0m \u001b[0;34m=\u001b[0m \u001b[0m_extend_blocks\u001b[0m\u001b[0;34m(\u001b[0m\u001b[0mapplied\u001b[0m\u001b[0;34m,\u001b[0m \u001b[0mresult_blocks\u001b[0m\u001b[0;34m)\u001b[0m\u001b[0;34m\u001b[0m\u001b[0m\n\u001b[1;32m   3331\u001b[0m \u001b[0;34m\u001b[0m\u001b[0m\n",
      "\u001b[0;32m~/maestria/lib/python3.5/site-packages/pandas/core/internals.py\u001b[0m in \u001b[0;36mastype\u001b[0;34m(self, dtype, copy, errors, values, **kwargs)\u001b[0m\n\u001b[1;32m    542\u001b[0m     \u001b[0;32mdef\u001b[0m \u001b[0mastype\u001b[0m\u001b[0;34m(\u001b[0m\u001b[0mself\u001b[0m\u001b[0;34m,\u001b[0m \u001b[0mdtype\u001b[0m\u001b[0;34m,\u001b[0m \u001b[0mcopy\u001b[0m\u001b[0;34m=\u001b[0m\u001b[0;32mFalse\u001b[0m\u001b[0;34m,\u001b[0m \u001b[0merrors\u001b[0m\u001b[0;34m=\u001b[0m\u001b[0;34m'raise'\u001b[0m\u001b[0;34m,\u001b[0m \u001b[0mvalues\u001b[0m\u001b[0;34m=\u001b[0m\u001b[0;32mNone\u001b[0m\u001b[0;34m,\u001b[0m \u001b[0;34m**\u001b[0m\u001b[0mkwargs\u001b[0m\u001b[0;34m)\u001b[0m\u001b[0;34m:\u001b[0m\u001b[0;34m\u001b[0m\u001b[0m\n\u001b[1;32m    543\u001b[0m         return self._astype(dtype, copy=copy, errors=errors, values=values,\n\u001b[0;32m--> 544\u001b[0;31m                             **kwargs)\n\u001b[0m\u001b[1;32m    545\u001b[0m \u001b[0;34m\u001b[0m\u001b[0m\n\u001b[1;32m    546\u001b[0m     def _astype(self, dtype, copy=False, errors='raise', values=None,\n",
      "\u001b[0;32m~/maestria/lib/python3.5/site-packages/pandas/core/internals.py\u001b[0m in \u001b[0;36m_astype\u001b[0;34m(self, dtype, copy, errors, values, klass, mgr, **kwargs)\u001b[0m\n\u001b[1;32m    623\u001b[0m \u001b[0;34m\u001b[0m\u001b[0m\n\u001b[1;32m    624\u001b[0m                 \u001b[0;31m# _astype_nansafe works fine with 1-d only\u001b[0m\u001b[0;34m\u001b[0m\u001b[0;34m\u001b[0m\u001b[0m\n\u001b[0;32m--> 625\u001b[0;31m                 \u001b[0mvalues\u001b[0m \u001b[0;34m=\u001b[0m \u001b[0mastype_nansafe\u001b[0m\u001b[0;34m(\u001b[0m\u001b[0mvalues\u001b[0m\u001b[0;34m.\u001b[0m\u001b[0mravel\u001b[0m\u001b[0;34m(\u001b[0m\u001b[0;34m)\u001b[0m\u001b[0;34m,\u001b[0m \u001b[0mdtype\u001b[0m\u001b[0;34m,\u001b[0m \u001b[0mcopy\u001b[0m\u001b[0;34m=\u001b[0m\u001b[0;32mTrue\u001b[0m\u001b[0;34m)\u001b[0m\u001b[0;34m\u001b[0m\u001b[0m\n\u001b[0m\u001b[1;32m    626\u001b[0m                 \u001b[0mvalues\u001b[0m \u001b[0;34m=\u001b[0m \u001b[0mvalues\u001b[0m\u001b[0;34m.\u001b[0m\u001b[0mreshape\u001b[0m\u001b[0;34m(\u001b[0m\u001b[0mself\u001b[0m\u001b[0;34m.\u001b[0m\u001b[0mshape\u001b[0m\u001b[0;34m)\u001b[0m\u001b[0;34m\u001b[0m\u001b[0m\n\u001b[1;32m    627\u001b[0m \u001b[0;34m\u001b[0m\u001b[0m\n",
      "\u001b[0;32m~/maestria/lib/python3.5/site-packages/pandas/core/dtypes/cast.py\u001b[0m in \u001b[0;36mastype_nansafe\u001b[0;34m(arr, dtype, copy)\u001b[0m\n\u001b[1;32m    685\u001b[0m \u001b[0;34m\u001b[0m\u001b[0m\n\u001b[1;32m    686\u001b[0m         \u001b[0;32mif\u001b[0m \u001b[0;32mnot\u001b[0m \u001b[0mnp\u001b[0m\u001b[0;34m.\u001b[0m\u001b[0misfinite\u001b[0m\u001b[0;34m(\u001b[0m\u001b[0marr\u001b[0m\u001b[0;34m)\u001b[0m\u001b[0;34m.\u001b[0m\u001b[0mall\u001b[0m\u001b[0;34m(\u001b[0m\u001b[0;34m)\u001b[0m\u001b[0;34m:\u001b[0m\u001b[0;34m\u001b[0m\u001b[0m\n\u001b[0;32m--> 687\u001b[0;31m             raise ValueError('Cannot convert non-finite values (NA or inf) to '\n\u001b[0m\u001b[1;32m    688\u001b[0m                              'integer')\n\u001b[1;32m    689\u001b[0m \u001b[0;34m\u001b[0m\u001b[0m\n",
      "\u001b[0;31mValueError\u001b[0m: Cannot convert non-finite values (NA or inf) to integer"
     ]
    }
   ],
   "source": [
    "columnas = ['EsTecnico', 'Tipo de aprobación_Libre',\n",
    " 'Turno_Tarde',\n",
    " 'Tipo de aprobación_Cambio Curso',\n",
    " 'Tipo de aprobación_Promociono',\n",
    " 'Turno_Noche',\n",
    " 'edad al ingreso',\n",
    " 'Tipo de aprobación_No Firmo',\n",
    " 'Turno_Mañana',\n",
    " 'Ciclo Lectivo de Cursada',\n",
    " 'Tipo de aprobación_Firmo',\n",
    " 'Cantidad de veces recursada regular',\n",
    " 'Descripción de recursada regular_No Recurso',\n",
    " 'Descripción de recursada regular_Recurso 1 Vez',\n",
    " 'Descripción de recursada regular_Recurso 2 Veces',\n",
    " 'Descripción de recursada regular_Recurso 3 Veces',\n",
    " 'Descripción de recursada regular_Recurso 4 Veces',\n",
    " 'Descripción de recursada regular_Recurso 5 Veces',\n",
    " 'Descripción de recursada regular_Recurso n Veces (>5)',\n",
    " 'Aprobado',\n",
    " 'Promociono',\n",
    " 'noAprobado',\n",
    " 'Nota']\n",
    "merged_df[columnas]=merged_df[columnas].astype(int)\n",
    "\n",
    "    "
   ]
  },
  {
   "cell_type": "code",
   "execution_count": null,
   "metadata": {},
   "outputs": [],
   "source": [
    "result = pd.concat([df1, df4], axis=1, join='inner')"
   ]
  },
  {
   "cell_type": "code",
   "execution_count": 32,
   "metadata": {},
   "outputs": [],
   "source": [
    "merged_df.to_csv(r'/home/dgasch/proyectos/GIAR/baseline_2009.csv',index=False)"
   ]
  },
  {
   "cell_type": "code",
   "execution_count": null,
   "metadata": {},
   "outputs": [],
   "source": []
  }
 ],
 "metadata": {
  "kernelspec": {
   "display_name": "Python 3",
   "language": "python",
   "name": "python3"
  },
  "language_info": {
   "codemirror_mode": {
    "name": "ipython",
    "version": 3
   },
   "file_extension": ".py",
   "mimetype": "text/x-python",
   "name": "python",
   "nbconvert_exporter": "python",
   "pygments_lexer": "ipython3",
   "version": "3.7.6"
  }
 },
 "nbformat": 4,
 "nbformat_minor": 4
}
